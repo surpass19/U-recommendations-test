{
 "cells": [
  {
   "cell_type": "markdown",
   "id": "9897faf6-085e-41ea-8e45-ea5d79327468",
   "metadata": {},
   "source": [
    "LightGBM with Sklearn pipelines  \n",
    "https://www.kaggle.com/paweljankiewicz/lightgbm-with-sklearn-pipelines"
   ]
  },
  {
   "cell_type": "code",
   "execution_count": 2,
   "id": "505131c6-3ad6-444a-b1d7-50719f402a44",
   "metadata": {},
   "outputs": [],
   "source": [
    "import numpy as np # linear algebra\n",
    "import pandas as pd # data processing, CSV file I/O (e.g. pd.read_csv)\n",
    "from sklearn.metrics import roc_auc_score\n",
    "from sklearn.preprocessing import LabelEncoder, StandardScaler \n",
    "from sklearn.compose import ColumnTransformer\n",
    "from sklearn.pipeline import make_pipeline\n",
    "from lightgbm import LGBMClassifier\n",
    "# from category_encoders import OneHotEncoder\n",
    "from sklearn.model_selection import cross_val_predict\n",
    "from warnings import filterwarnings\n",
    "from sklearn.impute import SimpleImputer\n",
    "filterwarnings('ignore')\n",
    "import os\n",
    "# print(os.listdir(\"../input\"))"
   ]
  },
  {
   "cell_type": "code",
   "execution_count": null,
   "id": "41f06fbc-bb0e-435b-937a-5e4a810f8702",
   "metadata": {},
   "outputs": [],
   "source": [
    "train = pd.read_csv(\"../input/train.csv\")\n",
    "print(\"train shape\", train.shape)\n",
    "test = pd.read_csv(\"../input/test.csv\")\n",
    "print(\"test shape\", test.shape)"
   ]
  },
  {
   "cell_type": "code",
   "execution_count": null,
   "id": "1ad26db1-b3c6-4f30-8e5c-e5b76b322750",
   "metadata": {},
   "outputs": [],
   "source": [
    "target_column = \"target\"\n",
    "id_column = \"id\"\n",
    "categorical_cols = [c for c in test.columns if test[c].dtype in [np.object]]\n",
    "numerical_cols = [c for c in test.columns if test[c].dtype in [np.float, np.int] and c not in [target_column, id_column]]\n",
    "print(\"Number of features\", len(categorical_cols)+len(numerical_cols))"
   ]
  },
  {
   "cell_type": "code",
   "execution_count": null,
   "id": "6b1fca21-8bb4-41a4-bb9a-2293359a922e",
   "metadata": {},
   "outputs": [],
   "source": [
    "classifier = make_pipeline(\n",
    "    ColumnTransformer([\n",
    "        ('num', StandardScaler(), numerical_cols),\n",
    "        ('cat', OneHotEncoder(), categorical_cols),    \n",
    "    ]),\n",
    "    LGBMClassifier(n_jobs=-1)\n",
    ")"
   ]
  },
  {
   "cell_type": "code",
   "execution_count": null,
   "id": "4b0a153a-ceac-4add-a6de-e9859a6dee54",
   "metadata": {},
   "outputs": [],
   "source": [
    "%%time\n",
    "oof_pred = cross_val_predict(classifier, \n",
    "                             train, \n",
    "                             train[target_column], \n",
    "                             cv=5,\n",
    "                             method=\"predict_proba\")"
   ]
  },
  {
   "cell_type": "code",
   "execution_count": null,
   "id": "4dde6b32-424b-4ad3-8ed2-a21fb2f95bc0",
   "metadata": {},
   "outputs": [],
   "source": [
    "print(\"Cross validation AUC {:.4f}\".format(roc_auc_score(train[target_column], oof_pred[:,1])))"
   ]
  },
  {
   "cell_type": "code",
   "execution_count": null,
   "id": "b4e9e4c0-fb91-4e7c-ad1d-9d52d12e5f95",
   "metadata": {},
   "outputs": [],
   "source": [
    "sub = pd.read_csv(\"../input/sample_submission.csv\")\n",
    "sub.head()"
   ]
  },
  {
   "cell_type": "code",
   "execution_count": null,
   "id": "746abec4-b929-4b56-99cf-360fa18db281",
   "metadata": {},
   "outputs": [],
   "source": [
    "%%time\n",
    "classifier.fit(train, train[target_column])\n",
    "test_preds = classifier.predict_proba(test)[:,1]\n",
    "sub[target_column] = test_preds\n",
    "sub.to_csv(\"submission.csv\", index=False)"
   ]
  },
  {
   "cell_type": "code",
   "execution_count": null,
   "id": "13a48c0a-2f02-4670-b3ae-046737bbeb67",
   "metadata": {},
   "outputs": [],
   "source": []
  }
 ],
 "metadata": {
  "kernelspec": {
   "display_name": "Python 3.9.5 64-bit ('ukita_main_env': conda)",
   "language": "python",
   "name": "python395jvsc74a57bd0c19bd4dc0949b9af5049c50e337ed6e21b7d6fbec491433b163f7fe7b877fba9"
  },
  "language_info": {
   "codemirror_mode": {
    "name": "ipython",
    "version": 3
   },
   "file_extension": ".py",
   "mimetype": "text/x-python",
   "name": "python",
   "nbconvert_exporter": "python",
   "pygments_lexer": "ipython3",
   "version": "3.9.5"
  }
 },
 "nbformat": 4,
 "nbformat_minor": 5
}
