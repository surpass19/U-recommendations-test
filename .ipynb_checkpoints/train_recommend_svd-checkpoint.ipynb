{
 "cells": [
  {
   "cell_type": "markdown",
   "id": "dc99d72b-719c-41ed-898c-bd0395035e8d",
   "metadata": {},
   "source": [
    "# インポート"
   ]
  },
  {
   "cell_type": "code",
   "execution_count": 3,
   "id": "3ff3cb27-4890-474f-a366-20782a187e31",
   "metadata": {},
   "outputs": [],
   "source": [
    "import pandas as pd\n",
    "\n",
    "import scipy.sparse\n",
    "from sklearn.decomposition import TruncatedSVD\n",
    "from sklearn.preprocessing import LabelEncoder\n",
    "import joblib\n",
    "from tqdm import tqdm"
   ]
  },
  {
   "cell_type": "markdown",
   "id": "3bca6a6e-9bc6-43a1-965b-45c806374729",
   "metadata": {},
   "source": [
    "# データの読み込み"
   ]
  },
  {
   "cell_type": "code",
   "execution_count": 4,
   "id": "4d561b62-479a-4745-9937-019713c0a035",
   "metadata": {},
   "outputs": [],
   "source": [
    "# load data\n",
    "review = pd.read_pickle(\"./data/review.pickle\")"
   ]
  },
  {
   "cell_type": "code",
   "execution_count": 5,
   "id": "4639d7e1-f221-4927-abbe-6fdeafec03bb",
   "metadata": {},
   "outputs": [
    {
     "data": {
      "text/html": [
       "<div>\n",
       "<style scoped>\n",
       "    .dataframe tbody tr th:only-of-type {\n",
       "        vertical-align: middle;\n",
       "    }\n",
       "\n",
       "    .dataframe tbody tr th {\n",
       "        vertical-align: top;\n",
       "    }\n",
       "\n",
       "    .dataframe thead th {\n",
       "        text-align: right;\n",
       "    }\n",
       "</style>\n",
       "<table border=\"1\" class=\"dataframe\">\n",
       "  <thead>\n",
       "    <tr style=\"text-align: right;\">\n",
       "      <th></th>\n",
       "      <th>user_id</th>\n",
       "      <th>movie_id</th>\n",
       "      <th>point</th>\n",
       "    </tr>\n",
       "  </thead>\n",
       "  <tbody>\n",
       "    <tr>\n",
       "      <th>0</th>\n",
       "      <td>20001</td>\n",
       "      <td>25942</td>\n",
       "      <td>8</td>\n",
       "    </tr>\n",
       "    <tr>\n",
       "      <th>1</th>\n",
       "      <td>20001</td>\n",
       "      <td>26788</td>\n",
       "      <td>8</td>\n",
       "    </tr>\n",
       "    <tr>\n",
       "      <th>2</th>\n",
       "      <td>20001</td>\n",
       "      <td>25605</td>\n",
       "      <td>8</td>\n",
       "    </tr>\n",
       "    <tr>\n",
       "      <th>3</th>\n",
       "      <td>20001</td>\n",
       "      <td>24933</td>\n",
       "      <td>6</td>\n",
       "    </tr>\n",
       "    <tr>\n",
       "      <th>4</th>\n",
       "      <td>20001</td>\n",
       "      <td>23973</td>\n",
       "      <td>6</td>\n",
       "    </tr>\n",
       "  </tbody>\n",
       "</table>\n",
       "</div>"
      ],
      "text/plain": [
       "   user_id  movie_id  point\n",
       "0    20001     25942      8\n",
       "1    20001     26788      8\n",
       "2    20001     25605      8\n",
       "3    20001     24933      6\n",
       "4    20001     23973      6"
      ]
     },
     "execution_count": 5,
     "metadata": {},
     "output_type": "execute_result"
    }
   ],
   "source": [
    "review = review[[\"user_id\", \"movie_id\", \"point\"]]\n",
    "review.head()"
   ]
  },
  {
   "cell_type": "code",
   "execution_count": 6,
   "id": "490350f2-0546-4950-a49d-ef8f99815ea3",
   "metadata": {},
   "outputs": [
    {
     "name": "stdout",
     "output_type": "stream",
     "text": [
      "<class 'pandas.core.frame.DataFrame'>\n",
      "RangeIndex: 452459 entries, 0 to 452458\n",
      "Data columns (total 3 columns):\n",
      " #   Column    Non-Null Count   Dtype\n",
      "---  ------    --------------   -----\n",
      " 0   user_id   452459 non-null  int64\n",
      " 1   movie_id  452459 non-null  int64\n",
      " 2   point     452459 non-null  int64\n",
      "dtypes: int64(3)\n",
      "memory usage: 10.4 MB\n"
     ]
    }
   ],
   "source": [
    "review.info()"
   ]
  },
  {
   "cell_type": "code",
   "execution_count": 7,
   "id": "6a45b19f-ac4d-487a-b916-824cb2f72f56",
   "metadata": {},
   "outputs": [
    {
     "name": "stdout",
     "output_type": "stream",
     "text": [
      "<class 'pandas.core.frame.DataFrame'>\n",
      "RangeIndex: 452459 entries, 0 to 452458\n",
      "Data columns (total 3 columns):\n",
      " #   Column    Non-Null Count   Dtype\n",
      "---  ------    --------------   -----\n",
      " 0   user_id   452459 non-null  int64\n",
      " 1   movie_id  452459 non-null  int64\n",
      " 2   point     452459 non-null  int64\n",
      "dtypes: int64(3)\n",
      "memory usage: 10.4 MB\n"
     ]
    }
   ],
   "source": [
    "review.info()"
   ]
  },
  {
   "cell_type": "code",
   "execution_count": 8,
   "id": "a4238324-ee47-4f93-84dc-f9371b26bdce",
   "metadata": {},
   "outputs": [],
   "source": [
    "user_enc = LabelEncoder()\n",
    "movie_enc = LabelEncoder()\n",
    "review[\"user_id\"] = user_enc.fit_transform(review.user_id)\n",
    "review[\"movie_id\"] = movie_enc.fit_transform(review.movie_id)"
   ]
  },
  {
   "cell_type": "code",
   "execution_count": 9,
   "id": "697f4916-f86c-49fb-85b7-660cb717d960",
   "metadata": {},
   "outputs": [
    {
     "data": {
      "text/html": [
       "<div>\n",
       "<style scoped>\n",
       "    .dataframe tbody tr th:only-of-type {\n",
       "        vertical-align: middle;\n",
       "    }\n",
       "\n",
       "    .dataframe tbody tr th {\n",
       "        vertical-align: top;\n",
       "    }\n",
       "\n",
       "    .dataframe thead th {\n",
       "        text-align: right;\n",
       "    }\n",
       "</style>\n",
       "<table border=\"1\" class=\"dataframe\">\n",
       "  <thead>\n",
       "    <tr style=\"text-align: right;\">\n",
       "      <th></th>\n",
       "      <th>user_id</th>\n",
       "      <th>movie_id</th>\n",
       "      <th>point</th>\n",
       "    </tr>\n",
       "  </thead>\n",
       "  <tbody>\n",
       "    <tr>\n",
       "      <th>0</th>\n",
       "      <td>0</td>\n",
       "      <td>24158</td>\n",
       "      <td>8</td>\n",
       "    </tr>\n",
       "    <tr>\n",
       "      <th>1</th>\n",
       "      <td>0</td>\n",
       "      <td>24919</td>\n",
       "      <td>8</td>\n",
       "    </tr>\n",
       "    <tr>\n",
       "      <th>2</th>\n",
       "      <td>0</td>\n",
       "      <td>23833</td>\n",
       "      <td>8</td>\n",
       "    </tr>\n",
       "    <tr>\n",
       "      <th>3</th>\n",
       "      <td>0</td>\n",
       "      <td>23207</td>\n",
       "      <td>6</td>\n",
       "    </tr>\n",
       "    <tr>\n",
       "      <th>4</th>\n",
       "      <td>0</td>\n",
       "      <td>22317</td>\n",
       "      <td>6</td>\n",
       "    </tr>\n",
       "  </tbody>\n",
       "</table>\n",
       "</div>"
      ],
      "text/plain": [
       "   user_id  movie_id  point\n",
       "0        0     24158      8\n",
       "1        0     24919      8\n",
       "2        0     23833      8\n",
       "3        0     23207      6\n",
       "4        0     22317      6"
      ]
     },
     "execution_count": 9,
     "metadata": {},
     "output_type": "execute_result"
    }
   ],
   "source": [
    "review.head()"
   ]
  },
  {
   "cell_type": "code",
   "execution_count": 10,
   "id": "d1c9b9b9-5b09-4968-9dc1-e3ccaeb0e479",
   "metadata": {},
   "outputs": [
    {
     "data": {
      "text/plain": [
       "['./model/movie_encoder.pkl']"
      ]
     },
     "execution_count": 10,
     "metadata": {},
     "output_type": "execute_result"
    }
   ],
   "source": [
    "joblib.dump(movie_enc, \"./model/movie_encoder.pkl\")"
   ]
  },
  {
   "cell_type": "code",
   "execution_count": 11,
   "id": "9d2e6fe1-a9ca-4a4a-a765-231bfaaa013c",
   "metadata": {},
   "outputs": [],
   "source": [
    "# create review matrix\n",
    "n_users = review.user_id.nunique()\n",
    "n_movies = review.movie_id.nunique()\n",
    "matrix = scipy.sparse.csr_matrix(\n",
    "    (review.point, (review.user_id, review.movie_id)), shape=(n_users, n_movies)\n",
    ")"
   ]
  },
  {
   "cell_type": "code",
   "execution_count": 80,
   "id": "9c6f2166-3dfd-477a-8755-0c300b748d39",
   "metadata": {},
   "outputs": [
    {
     "name": "stderr",
     "output_type": "stream",
     "text": [
      "100%|█████████████████████████████████████████████| 8/8 [00:37<00:00,  4.75s/it]\n"
     ]
    }
   ],
   "source": [
    "# train models\n",
    "for n_components in tqdm([10, 20, 30, 100, 200, 500, 1000, 2000]):\n",
    "    model = TruncatedSVD(n_components)\n",
    "    model.fit(matrix)\n",
    "    joblib.dump(model, f\"./model/svd_{n_components}.pkl\")"
   ]
  },
  {
   "cell_type": "code",
   "execution_count": null,
   "id": "8984a17e-6329-4eb8-9285-3d1000d14a08",
   "metadata": {},
   "outputs": [],
   "source": []
  },
  {
   "cell_type": "code",
   "execution_count": null,
   "id": "79497452-0a13-4eb1-bc69-95baf70f72ee",
   "metadata": {},
   "outputs": [],
   "source": []
  },
  {
   "cell_type": "code",
   "execution_count": null,
   "id": "11269a20-ceeb-43ac-9dd1-bd1540a5978d",
   "metadata": {},
   "outputs": [],
   "source": []
  },
  {
   "cell_type": "code",
   "execution_count": null,
   "id": "53921885-d376-464a-8699-2db8a66d9a5a",
   "metadata": {},
   "outputs": [],
   "source": []
  },
  {
   "cell_type": "code",
   "execution_count": null,
   "id": "e419ad2b-b9c6-4056-8b53-47979d2c7a57",
   "metadata": {},
   "outputs": [],
   "source": []
  },
  {
   "cell_type": "code",
   "execution_count": null,
   "id": "ec89b479-8e1b-40f7-b789-1cfa303f9a43",
   "metadata": {},
   "outputs": [],
   "source": []
  },
  {
   "cell_type": "code",
   "execution_count": null,
   "id": "87c249d8-ccc5-40b5-904c-63ca3da9cb46",
   "metadata": {},
   "outputs": [],
   "source": []
  },
  {
   "cell_type": "markdown",
   "id": "b64ca7ee-4264-4fd8-bf21-89f22c08fe31",
   "metadata": {},
   "source": [
    "# データ確認"
   ]
  },
  {
   "cell_type": "code",
   "execution_count": 76,
   "id": "30571ef3-2af5-4e6f-ab7c-31ea33f1e973",
   "metadata": {},
   "outputs": [
    {
     "data": {
      "text/html": [
       "<div>\n",
       "<style scoped>\n",
       "    .dataframe tbody tr th:only-of-type {\n",
       "        vertical-align: middle;\n",
       "    }\n",
       "\n",
       "    .dataframe tbody tr th {\n",
       "        vertical-align: top;\n",
       "    }\n",
       "\n",
       "    .dataframe thead th {\n",
       "        text-align: right;\n",
       "    }\n",
       "</style>\n",
       "<table border=\"1\" class=\"dataframe\">\n",
       "  <thead>\n",
       "    <tr style=\"text-align: right;\">\n",
       "      <th></th>\n",
       "      <th>mean_review_point</th>\n",
       "      <th>number_of_revier</th>\n",
       "      <th>screening_time</th>\n",
       "      <th>genre</th>\n",
       "      <th>movie_id</th>\n",
       "      <th>movie_title</th>\n",
       "    </tr>\n",
       "  </thead>\n",
       "  <tbody>\n",
       "    <tr>\n",
       "      <th>0</th>\n",
       "      <td>6.84</td>\n",
       "      <td>44.0</td>\n",
       "      <td>155.0</td>\n",
       "      <td>アクション|ＳＦ|アニメ|シリーズもの|ＴＶの映画化</td>\n",
       "      <td>25942</td>\n",
       "      <td>シン・エヴァンゲリオン劇場版：||</td>\n",
       "    </tr>\n",
       "    <tr>\n",
       "      <th>1</th>\n",
       "      <td>8.00</td>\n",
       "      <td>1.0</td>\n",
       "      <td>104.0</td>\n",
       "      <td>アクション|ＳＦ|アニメ|シリーズもの|青春もの|学園もの|ＴＶの映画化|漫画の映画化</td>\n",
       "      <td>26788</td>\n",
       "      <td>僕のヒーローアカデミアTHEMOVIE　ワールドヒーローズミッション</td>\n",
       "    </tr>\n",
       "    <tr>\n",
       "      <th>2</th>\n",
       "      <td>8.27</td>\n",
       "      <td>11.0</td>\n",
       "      <td>114.0</td>\n",
       "      <td>ドラマ|サスペンス|コメディ</td>\n",
       "      <td>25605</td>\n",
       "      <td>メランコリック</td>\n",
       "    </tr>\n",
       "    <tr>\n",
       "      <th>3</th>\n",
       "      <td>5.93</td>\n",
       "      <td>14.0</td>\n",
       "      <td>100.0</td>\n",
       "      <td>アクション|ＳＦ|ファンタジー|アニメ|シリーズもの|ＴＶの映画化|漫画の映画化|３Ｄ映画</td>\n",
       "      <td>24933</td>\n",
       "      <td>ドラゴンボール超／ブロリー</td>\n",
       "    </tr>\n",
       "    <tr>\n",
       "      <th>4</th>\n",
       "      <td>5.80</td>\n",
       "      <td>5.0</td>\n",
       "      <td>120.0</td>\n",
       "      <td>ドラマ|ラブストーリー|青春もの|学園もの|漫画の映画化</td>\n",
       "      <td>23973</td>\n",
       "      <td>ReLIFEリライフ</td>\n",
       "    </tr>\n",
       "  </tbody>\n",
       "</table>\n",
       "</div>"
      ],
      "text/plain": [
       "   mean_review_point  number_of_revier  screening_time  \\\n",
       "0               6.84              44.0           155.0   \n",
       "1               8.00               1.0           104.0   \n",
       "2               8.27              11.0           114.0   \n",
       "3               5.93              14.0           100.0   \n",
       "4               5.80               5.0           120.0   \n",
       "\n",
       "                                           genre  movie_id  \\\n",
       "0                     アクション|ＳＦ|アニメ|シリーズもの|ＴＶの映画化     25942   \n",
       "1    アクション|ＳＦ|アニメ|シリーズもの|青春もの|学園もの|ＴＶの映画化|漫画の映画化     26788   \n",
       "2                                 ドラマ|サスペンス|コメディ     25605   \n",
       "3  アクション|ＳＦ|ファンタジー|アニメ|シリーズもの|ＴＶの映画化|漫画の映画化|３Ｄ映画     24933   \n",
       "4                   ドラマ|ラブストーリー|青春もの|学園もの|漫画の映画化     23973   \n",
       "\n",
       "                          movie_title  \n",
       "0                   シン・エヴァンゲリオン劇場版：||  \n",
       "1  僕のヒーローアカデミアTHEMOVIE　ワールドヒーローズミッション  \n",
       "2                             メランコリック  \n",
       "3                       ドラゴンボール超／ブロリー  \n",
       "4                          ReLIFEリライフ  "
      ]
     },
     "execution_count": 76,
     "metadata": {},
     "output_type": "execute_result"
    }
   ],
   "source": [
    "# load data\n",
    "movie_df = pd.read_pickle(\"./data/movie.pickle\")\n",
    "movie_df.head()"
   ]
  },
  {
   "cell_type": "code",
   "execution_count": 77,
   "id": "1e759264-bd11-4bd4-adea-2fbab6afed72",
   "metadata": {},
   "outputs": [
    {
     "name": "stdout",
     "output_type": "stream",
     "text": [
      "<class 'pandas.core.frame.DataFrame'>\n",
      "RangeIndex: 25002 entries, 0 to 25001\n",
      "Data columns (total 6 columns):\n",
      " #   Column             Non-Null Count  Dtype  \n",
      "---  ------             --------------  -----  \n",
      " 0   mean_review_point  24988 non-null  float64\n",
      " 1   number_of_revier   24988 non-null  float64\n",
      " 2   screening_time     23499 non-null  float64\n",
      " 3   genre              25002 non-null  object \n",
      " 4   movie_id           25002 non-null  int64  \n",
      " 5   movie_title        25002 non-null  object \n",
      "dtypes: float64(3), int64(1), object(2)\n",
      "memory usage: 1.1+ MB\n"
     ]
    }
   ],
   "source": [
    "movie_df.info()"
   ]
  },
  {
   "cell_type": "code",
   "execution_count": 78,
   "id": "1568ac99-4df3-419f-9884-81b212929483",
   "metadata": {},
   "outputs": [
    {
     "data": {
      "text/plain": [
       "movie_id    25002\n",
       "dtype: int64"
      ]
     },
     "execution_count": 78,
     "metadata": {},
     "output_type": "execute_result"
    }
   ],
   "source": [
    "movie_df[[\"movie_id\"]].nunique()"
   ]
  }
 ],
 "metadata": {
  "kernelspec": {
   "display_name": "Python 3.9.5 64-bit ('ukita_main_env': conda)",
   "language": "python",
   "name": "python395jvsc74a57bd0c19bd4dc0949b9af5049c50e337ed6e21b7d6fbec491433b163f7fe7b877fba9"
  },
  "language_info": {
   "codemirror_mode": {
    "name": "ipython",
    "version": 3
   },
   "file_extension": ".py",
   "mimetype": "text/x-python",
   "name": "python",
   "nbconvert_exporter": "python",
   "pygments_lexer": "ipython3",
   "version": "3.9.5"
  }
 },
 "nbformat": 4,
 "nbformat_minor": 5
}
