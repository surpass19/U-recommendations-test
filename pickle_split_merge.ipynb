{
 "cells": [
  {
   "cell_type": "code",
   "execution_count": 1,
   "id": "5bee142f-66fa-47de-b1cd-f87d43d8b8a2",
   "metadata": {},
   "outputs": [],
   "source": [
    "import pandas as pd\n",
    "import numpy as np \n",
    "from scipy.sparse import csr_matrix\n",
    "from sklearn.neighbors import NearestNeighbors\n",
    "\n",
    "\n",
    "import scipy.sparse\n",
    "from sklearn.decomposition import TruncatedSVD\n",
    "from sklearn.preprocessing import LabelEncoder\n",
    "import joblib\n",
    "from tqdm import tqdm\n",
    "\n",
    "import matplotlib.pyplot as plt\n",
    "from mpl_toolkits.mplot3d import Axes3D\n",
    "%matplotlib inline\n",
    "\n",
    "import warnings\n",
    "warnings.filterwarnings('ignore')"
   ]
  },
  {
   "cell_type": "code",
   "execution_count": 3,
   "id": "3eba5702-3e9e-4f92-9889-5753890d4cea",
   "metadata": {},
   "outputs": [],
   "source": [
    "ratings = pd.read_pickle('./data/review.pickle')\n",
    "ratings.point.replace({0: 10}, inplace=True)"
   ]
  },
  {
   "cell_type": "code",
   "execution_count": 5,
   "id": "f381bb4b-0604-4a90-a6e6-d9c0002f1b60",
   "metadata": {},
   "outputs": [
    {
     "name": "stdout",
     "output_type": "stream",
     "text": [
      "<class 'pandas.core.frame.DataFrame'>\n",
      "RangeIndex: 452459 entries, 0 to 452458\n",
      "Data columns (total 5 columns):\n",
      " #   Column         Non-Null Count   Dtype \n",
      "---  ------         --------------   ----- \n",
      " 0   user_id        452459 non-null  int64 \n",
      " 1   movie_id       452459 non-null  int64 \n",
      " 2   movie_tile     452459 non-null  object\n",
      " 3   movie_comment  452459 non-null  object\n",
      " 4   point          452459 non-null  int64 \n",
      "dtypes: int64(3), object(2)\n",
      "memory usage: 17.3+ MB\n"
     ]
    }
   ],
   "source": [
    "ratings.info()"
   ]
  },
  {
   "cell_type": "code",
   "execution_count": 11,
   "id": "e385daf3-ec2e-4c62-a010-4deaafc95cca",
   "metadata": {},
   "outputs": [
    {
     "data": {
      "text/plain": [
       "452459"
      ]
     },
     "execution_count": 11,
     "metadata": {},
     "output_type": "execute_result"
    }
   ],
   "source": [
    "ratings.shape[0]"
   ]
  },
  {
   "cell_type": "code",
   "execution_count": 10,
   "id": "de78ccc8-56b6-4c71-a894-7da02e5c6588",
   "metadata": {},
   "outputs": [
    {
     "data": {
      "text/plain": [
       "452460"
      ]
     },
     "execution_count": 10,
     "metadata": {},
     "output_type": "execute_result"
    }
   ],
   "source": [
    "k = 113115\n",
    "k * 4"
   ]
  },
  {
   "cell_type": "code",
   "execution_count": 12,
   "id": "b737a148-b0d6-4da0-8c3a-a892f7fb194b",
   "metadata": {},
   "outputs": [],
   "source": [
    "df = ratings.copy()"
   ]
  },
  {
   "cell_type": "code",
   "execution_count": 13,
   "id": "de6290ec-9f9c-4271-b4f1-685e6135958f",
   "metadata": {},
   "outputs": [],
   "source": [
    "k = 113115  # 1DataFrameあたりの行数\n",
    "dfs = [df.loc[i:i+k-1, :] for i in range(0, len(df), k)]"
   ]
  },
  {
   "cell_type": "code",
   "execution_count": 14,
   "id": "d19fb7fa-9d3f-4a02-beda-9ae2e58ae97b",
   "metadata": {
    "collapsed": true,
    "jupyter": {
     "outputs_hidden": true
    },
    "tags": []
   },
   "outputs": [
    {
     "data": {
      "text/plain": [
       "[        user_id  movie_id                          movie_tile  \\\n",
       " 0         20001     25942                   シン・エヴァンゲリオン劇場版：||   \n",
       " 1         20001     26788  僕のヒーローアカデミアTHEMOVIE　ワールドヒーローズミッション   \n",
       " 2         20001     25605                             メランコリック   \n",
       " 3         20001     24933                       ドラゴンボール超／ブロリー   \n",
       " 4         20001     23973                          ReLIFEリライフ   \n",
       " ...         ...       ...                                 ...   \n",
       " 113110    20981     16194                               おくりびと   \n",
       " 113111    20981     15548                             崖の上のポニョ   \n",
       " 113112    20981     16353                              1408号室   \n",
       " 113113    20981     16744                              ウォッチメン   \n",
       " 113114    20981     15749                        ダークナイト(2008)   \n",
       " \n",
       "                                             movie_comment  point  \n",
       " 0       劇場で見てさらにAmazonPrimeで再確認しました。点数は劇場版で見た際のメモの点数のま...      8  \n",
       " 1       空いてそうな時間帯を狙っていきました。時系列的には連続アニメの最新話のあとぐらいの話みたいで...      8  \n",
       " 2       AmazonPrimeで見ました。調べると製作費３００万だそうで。それもあって初めてみる俳優...      8  \n",
       " 3       なお、ドラゴンボールの映画は「神と神」と「復活のF」ぐらいしか見たことがないのでオリジナルの...      6  \n",
       " 4       漫画とアニメ（＋OVA）は全部見てます。で、漫画原作は222話で10冊以上あるのでやもえない...      6  \n",
       " ...                                                   ...    ...  \n",
       " 113110                       日本が誇る「邦画」。こんな正統派で海外作品と戦えるとは。      8  \n",
       " 113111  観終わった後にグッズコーナーをつい見てしまうのは、キャラクターに魅力があるからなんでしょう。...      8  \n",
       " 113112  ジェットコースターホラー。怖いです。あの設定だけでよくぞここまで怖くできるもんだ。キングの筆...      6  \n",
       " 113113  日本人の感性の外にある映画。この監督がいたからこそ出来た映画だが、この監督こそが足を引っ張っ...      7  \n",
       " 113114  前作バットマンビギンズを観てると、なぜバットマンがああまでジョーカーに無抵抗なのかわかる。ビ...     10  \n",
       " \n",
       " [113115 rows x 5 columns],\n",
       "         user_id  movie_id          movie_tile  \\\n",
       " 113115    20981     11244           バットマンビギンズ   \n",
       " 113116    20981     16282          Ｐ.Ｓ.アイラヴユー   \n",
       " 113117    20981     14637      ３００＜スリーハンドレッド＞   \n",
       " 113118    20981     16782      ヱヴァンゲリヲン新劇場版：破   \n",
       " 113119    20981     14682      ヱヴァンゲリヲン新劇場版：序   \n",
       " ...         ...       ...                 ...   \n",
       " 226225    23685     11207    インファナル・アフェア　終極無間   \n",
       " 226226    23685      9983    インファナル・アフェア　無間序曲   \n",
       " 226227    23685     12716                シリアナ   \n",
       " 226228    23685     13574    イーオン・フラックス(2005)   \n",
       " 226229    23685     13361  機動戦士ZガンダムIII星の鼓動は愛   \n",
       " \n",
       "                                             movie_comment  point  \n",
       " 113115              ダークナイトの序章として観るべき。ヒーローって大変なんだね、と思える一本。      7  \n",
       " 113116                           起◎承◎転？結×。男としては感情移入できまへん。      3  \n",
       " 113117                                           実写版「男塾」。      6  \n",
       " 113118                テレビ版を観た・観ていない次第で点が割れそう。戦闘シーンの完成度高し。      8  \n",
       " 113119             単なる焼き直しかと思いきやさにあらず。ヤシマ作戦のとこだけでも観る価値あり。      7  \n",
       " ...                                                   ...    ...  \n",
       " 226225  現実・過去・妄想がごっちゃになって少し話が複雑かなぁと思いました。さすがに一見さんは無理です...      6  \n",
       " 226226  １の過去の話。サムとウォンの過去の経緯が明らかになる。あの二人は本当にいい味が出ていた。サム...      6  \n",
       " 226227  シナリオが複雑に絡んで一度観ただけじゃわからないかも。自分が自分のために動いているけど・・・...      5  \n",
       " 226228  ４点の基準が「意外と面白くない。」なので３点にしました。予想通りのつまらなさ。Charliz...      3  \n",
       " 226229  ＴＶ版がシャアの物語であるとしたら、劇場版はカミーユの物語。ＴＶ版は、シャアで始まりシャアで...      6  \n",
       " \n",
       " [113115 rows x 5 columns],\n",
       "         user_id  movie_id       movie_tile  \\\n",
       " 226230    23685     13153  機動戦士ZガンダムII恋人たち   \n",
       " 226231    23685      1286             シャフト   \n",
       " 226232    23685      1393        コヨーテ・アグリー   \n",
       " 226233    23685     10398       ボーン・スプレマシー   \n",
       " 226234    23685      4898            デアデビル   \n",
       " ...         ...       ...              ...   \n",
       " 339340    25489      2610  恋人までの距離（ディスタンス）   \n",
       " 339341    25489     17384          大阪ハムレット   \n",
       " 339342    25489        65            乙女の祈り   \n",
       " 339343    25489      2556           プレタポルテ   \n",
       " 339344    25489     17094               懺悔   \n",
       " \n",
       "                                             movie_comment  point  \n",
       " 226230  ストーリーの端折りは相変わらずのためＴＶ版未見の方は辛いかも。視聴者層を考えれば当然ですが・...      6  \n",
       " 226231  サミュエルは相手役・脇役が光ると思ってるので・・ちょっとなぁ的な部分はありました。他の方も書...      5  \n",
       " 226232  劇場で未見でＤＶＤ買ったものの１年以上放置してました(笑）少し人物の掘り下げが少ない部分もあ...      7  \n",
       " 226233  年末安かったので購入し自宅シアターにて鑑賞。マット・デイモンも老けたなぁ・・カーチェイスはち...      6  \n",
       " 226234                コリン・ファレルはおもしろかった。。でもそれだけしか残らなかった(笑)      5  \n",
       " ...                                                   ...    ...  \n",
       " 339340  会話する二人の自然さの引き出しかたにこそ映画の命がある、っていう姿勢。ちょっとした反応なんか...      8  \n",
       " 339341  自分に与えられた輪郭に収まりきらない人たちのドラマ。大学生に見える中学生、女の子になりたい男...      6  \n",
       " 339342  少女の特権は、現実に対する仮借なき軽蔑だ。どちらの家庭も、鯖の臭いや腐ったサンドイッチの臭い...      7  \n",
       " 339343  配役の贅沢さだけで、お祭り的な楽しみがある。そしてこの人の場合「お祭り的」ってこと自体が狙い...      8  \n",
       " 339344  荒削りのシュールリアリズムが、かえって味わい。シュールリアリズムって、小細工で線が細くなって...      7  \n",
       " \n",
       " [113115 rows x 5 columns],\n",
       "         user_id  movie_id            movie_tile  \\\n",
       " 339345    25489     14740        次郎長三国志　第九部　荒神山   \n",
       " 339346    25489     13660   次郎長三国志　第八部　海道一の暴れん坊   \n",
       " 339347    25489     13704     次郎長三国志　第七部　初祝い清水港   \n",
       " 339348    25489     13692  次郎長三国志　第六部　旅がらす次郎長一家   \n",
       " 339349    25489     13688     次郎長三国志　第五部　殴込み甲州路   \n",
       " ...         ...       ...                   ...   \n",
       " 452454    27958      8188     ロード・オブ・ザ・リング／王の帰還   \n",
       " 452455    27960     26636              JUNKHEAD   \n",
       " 452456    27960     26543            花束みたいな恋をした   \n",
       " 452457    27961      7549             スカイ・ライダーズ   \n",
       " 452458    27973     26407                キネマの神様   \n",
       " \n",
       "                                             movie_comment  point  \n",
       " 339345  前作からのつながりで、山に籠もってる、いう設定。土屋嘉男の農民が恨みから変わっていく展開がポ...      6  \n",
       " 339346  豚松の母親の嘆きなど、「カタギ」と「馬鹿」が対比される。やくざというのは、つまり「馬鹿」の開...      7  \n",
       " 339347  正月映画らしい道具立てで、忠臣蔵の七段目をベースにしたような一編。もっとも大石はリコウがバカ...      7  \n",
       " 339348  御詠歌を流す巡礼で始まり、一転渋い一編となる。逃げ回り野に伏す日々。石松が思わず吃らずに嘆い...      7  \n",
       " 339349  まず祭り。陽気な爆発。路地の中にゆっくりと踊りながら入り込んでくるおせんちゃんのカット。お囃...      7  \n",
       " ...                                                   ...    ...  \n",
       " 452454  原作は本当に大好きな作品。その世界をここまで再現してくれた制作陣には感謝しかありません。満点...      9  \n",
       " 452455  ストップモーションについてそんなに詳しいわけではないが、その熱意に圧倒された。女性描写に鋭い...      9  \n",
       " 452456  瀧波ユカリさんがnoteで大絶賛していたので気になり会社を出た後映画館に滑りこんだ。端的に言...     10  \n",
       " 452457  中一の時、和歌山田辺のトキワ座にて「オーメン」の併映として鑑賞。メインを凌駕するほどの面白さ...      7  \n",
       " 452458  木場の109シネマズで鑑賞。笑いあり、涙ありの良作。個人的には傑作といっても過言ではないと思...      9  \n",
       " \n",
       " [113114 rows x 5 columns]]"
      ]
     },
     "execution_count": 14,
     "metadata": {},
     "output_type": "execute_result"
    }
   ],
   "source": [
    "dfs"
   ]
  },
  {
   "cell_type": "code",
   "execution_count": 18,
   "id": "93aa60cf-daa5-42f7-9080-30bf6ba4b5b4",
   "metadata": {},
   "outputs": [
    {
     "data": {
      "text/plain": [
       "'./data_reviews/review3.pickle'"
      ]
     },
     "execution_count": 18,
     "metadata": {},
     "output_type": "execute_result"
    }
   ],
   "source": [
    "fname"
   ]
  },
  {
   "cell_type": "code",
   "execution_count": 17,
   "id": "403f9a5a-0c03-4011-81b8-85c65cfcd20b",
   "metadata": {},
   "outputs": [],
   "source": [
    "for i, df_i in enumerate(dfs):\n",
    "    fname = './data_reviews/review' + str(i) + \".pickle\"\n",
    "    df_i.to_pickle(fname)"
   ]
  },
  {
   "cell_type": "code",
   "execution_count": null,
   "id": "094c40c1-c8e0-402b-8846-1336011ee3fe",
   "metadata": {},
   "outputs": [],
   "source": []
  },
  {
   "cell_type": "code",
   "execution_count": 20,
   "id": "d5328f89-3b96-4fba-9bad-5899cc3b036b",
   "metadata": {},
   "outputs": [],
   "source": [
    "review0_df = pd.read_pickle('./data_reviews/review0.pickle')\n",
    "review1_df = pd.read_pickle('./data_reviews/review1.pickle')\n",
    "review2_df = pd.read_pickle('./data_reviews/review2.pickle')\n",
    "review3_df = pd.read_pickle('./data_reviews/review3.pickle')"
   ]
  },
  {
   "cell_type": "code",
   "execution_count": 21,
   "id": "fb6c98d8-1fdd-4989-82cb-40f07595b531",
   "metadata": {},
   "outputs": [
    {
     "data": {
      "text/html": [
       "<div>\n",
       "<style scoped>\n",
       "    .dataframe tbody tr th:only-of-type {\n",
       "        vertical-align: middle;\n",
       "    }\n",
       "\n",
       "    .dataframe tbody tr th {\n",
       "        vertical-align: top;\n",
       "    }\n",
       "\n",
       "    .dataframe thead th {\n",
       "        text-align: right;\n",
       "    }\n",
       "</style>\n",
       "<table border=\"1\" class=\"dataframe\">\n",
       "  <thead>\n",
       "    <tr style=\"text-align: right;\">\n",
       "      <th></th>\n",
       "      <th>user_id</th>\n",
       "      <th>movie_id</th>\n",
       "      <th>movie_tile</th>\n",
       "      <th>movie_comment</th>\n",
       "      <th>point</th>\n",
       "    </tr>\n",
       "  </thead>\n",
       "  <tbody>\n",
       "    <tr>\n",
       "      <th>0</th>\n",
       "      <td>20001</td>\n",
       "      <td>25942</td>\n",
       "      <td>シン・エヴァンゲリオン劇場版：||</td>\n",
       "      <td>劇場で見てさらにAmazonPrimeで再確認しました。点数は劇場版で見た際のメモの点数のま...</td>\n",
       "      <td>8</td>\n",
       "    </tr>\n",
       "    <tr>\n",
       "      <th>1</th>\n",
       "      <td>20001</td>\n",
       "      <td>26788</td>\n",
       "      <td>僕のヒーローアカデミアTHEMOVIE　ワールドヒーローズミッション</td>\n",
       "      <td>空いてそうな時間帯を狙っていきました。時系列的には連続アニメの最新話のあとぐらいの話みたいで...</td>\n",
       "      <td>8</td>\n",
       "    </tr>\n",
       "    <tr>\n",
       "      <th>2</th>\n",
       "      <td>20001</td>\n",
       "      <td>25605</td>\n",
       "      <td>メランコリック</td>\n",
       "      <td>AmazonPrimeで見ました。調べると製作費３００万だそうで。それもあって初めてみる俳優...</td>\n",
       "      <td>8</td>\n",
       "    </tr>\n",
       "    <tr>\n",
       "      <th>3</th>\n",
       "      <td>20001</td>\n",
       "      <td>24933</td>\n",
       "      <td>ドラゴンボール超／ブロリー</td>\n",
       "      <td>なお、ドラゴンボールの映画は「神と神」と「復活のF」ぐらいしか見たことがないのでオリジナルの...</td>\n",
       "      <td>6</td>\n",
       "    </tr>\n",
       "    <tr>\n",
       "      <th>4</th>\n",
       "      <td>20001</td>\n",
       "      <td>23973</td>\n",
       "      <td>ReLIFEリライフ</td>\n",
       "      <td>漫画とアニメ（＋OVA）は全部見てます。で、漫画原作は222話で10冊以上あるのでやもえない...</td>\n",
       "      <td>6</td>\n",
       "    </tr>\n",
       "  </tbody>\n",
       "</table>\n",
       "</div>"
      ],
      "text/plain": [
       "   user_id  movie_id                          movie_tile  \\\n",
       "0    20001     25942                   シン・エヴァンゲリオン劇場版：||   \n",
       "1    20001     26788  僕のヒーローアカデミアTHEMOVIE　ワールドヒーローズミッション   \n",
       "2    20001     25605                             メランコリック   \n",
       "3    20001     24933                       ドラゴンボール超／ブロリー   \n",
       "4    20001     23973                          ReLIFEリライフ   \n",
       "\n",
       "                                       movie_comment  point  \n",
       "0  劇場で見てさらにAmazonPrimeで再確認しました。点数は劇場版で見た際のメモの点数のま...      8  \n",
       "1  空いてそうな時間帯を狙っていきました。時系列的には連続アニメの最新話のあとぐらいの話みたいで...      8  \n",
       "2  AmazonPrimeで見ました。調べると製作費３００万だそうで。それもあって初めてみる俳優...      8  \n",
       "3  なお、ドラゴンボールの映画は「神と神」と「復活のF」ぐらいしか見たことがないのでオリジナルの...      6  \n",
       "4  漫画とアニメ（＋OVA）は全部見てます。で、漫画原作は222話で10冊以上あるのでやもえない...      6  "
      ]
     },
     "execution_count": 21,
     "metadata": {},
     "output_type": "execute_result"
    }
   ],
   "source": [
    "review0_df.head()"
   ]
  },
  {
   "cell_type": "code",
   "execution_count": 22,
   "id": "2bb94230-2d58-4170-9a70-7a67f456a360",
   "metadata": {},
   "outputs": [
    {
     "data": {
      "text/html": [
       "<div>\n",
       "<style scoped>\n",
       "    .dataframe tbody tr th:only-of-type {\n",
       "        vertical-align: middle;\n",
       "    }\n",
       "\n",
       "    .dataframe tbody tr th {\n",
       "        vertical-align: top;\n",
       "    }\n",
       "\n",
       "    .dataframe thead th {\n",
       "        text-align: right;\n",
       "    }\n",
       "</style>\n",
       "<table border=\"1\" class=\"dataframe\">\n",
       "  <thead>\n",
       "    <tr style=\"text-align: right;\">\n",
       "      <th></th>\n",
       "      <th>user_id</th>\n",
       "      <th>movie_id</th>\n",
       "      <th>movie_tile</th>\n",
       "      <th>movie_comment</th>\n",
       "      <th>point</th>\n",
       "    </tr>\n",
       "  </thead>\n",
       "  <tbody>\n",
       "    <tr>\n",
       "      <th>113115</th>\n",
       "      <td>20981</td>\n",
       "      <td>11244</td>\n",
       "      <td>バットマンビギンズ</td>\n",
       "      <td>ダークナイトの序章として観るべき。ヒーローって大変なんだね、と思える一本。</td>\n",
       "      <td>7</td>\n",
       "    </tr>\n",
       "    <tr>\n",
       "      <th>113116</th>\n",
       "      <td>20981</td>\n",
       "      <td>16282</td>\n",
       "      <td>Ｐ.Ｓ.アイラヴユー</td>\n",
       "      <td>起◎承◎転？結×。男としては感情移入できまへん。</td>\n",
       "      <td>3</td>\n",
       "    </tr>\n",
       "    <tr>\n",
       "      <th>113117</th>\n",
       "      <td>20981</td>\n",
       "      <td>14637</td>\n",
       "      <td>３００＜スリーハンドレッド＞</td>\n",
       "      <td>実写版「男塾」。</td>\n",
       "      <td>6</td>\n",
       "    </tr>\n",
       "    <tr>\n",
       "      <th>113118</th>\n",
       "      <td>20981</td>\n",
       "      <td>16782</td>\n",
       "      <td>ヱヴァンゲリヲン新劇場版：破</td>\n",
       "      <td>テレビ版を観た・観ていない次第で点が割れそう。戦闘シーンの完成度高し。</td>\n",
       "      <td>8</td>\n",
       "    </tr>\n",
       "    <tr>\n",
       "      <th>113119</th>\n",
       "      <td>20981</td>\n",
       "      <td>14682</td>\n",
       "      <td>ヱヴァンゲリヲン新劇場版：序</td>\n",
       "      <td>単なる焼き直しかと思いきやさにあらず。ヤシマ作戦のとこだけでも観る価値あり。</td>\n",
       "      <td>7</td>\n",
       "    </tr>\n",
       "  </tbody>\n",
       "</table>\n",
       "</div>"
      ],
      "text/plain": [
       "        user_id  movie_id      movie_tile  \\\n",
       "113115    20981     11244       バットマンビギンズ   \n",
       "113116    20981     16282      Ｐ.Ｓ.アイラヴユー   \n",
       "113117    20981     14637  ３００＜スリーハンドレッド＞   \n",
       "113118    20981     16782  ヱヴァンゲリヲン新劇場版：破   \n",
       "113119    20981     14682  ヱヴァンゲリヲン新劇場版：序   \n",
       "\n",
       "                                 movie_comment  point  \n",
       "113115   ダークナイトの序章として観るべき。ヒーローって大変なんだね、と思える一本。      7  \n",
       "113116                起◎承◎転？結×。男としては感情移入できまへん。      3  \n",
       "113117                                実写版「男塾」。      6  \n",
       "113118     テレビ版を観た・観ていない次第で点が割れそう。戦闘シーンの完成度高し。      8  \n",
       "113119  単なる焼き直しかと思いきやさにあらず。ヤシマ作戦のとこだけでも観る価値あり。      7  "
      ]
     },
     "execution_count": 22,
     "metadata": {},
     "output_type": "execute_result"
    }
   ],
   "source": [
    "review1_df.head()"
   ]
  },
  {
   "cell_type": "code",
   "execution_count": 23,
   "id": "ceb0109c-90cd-47ce-a9e8-cf97d64e87f6",
   "metadata": {},
   "outputs": [
    {
     "data": {
      "text/html": [
       "<div>\n",
       "<style scoped>\n",
       "    .dataframe tbody tr th:only-of-type {\n",
       "        vertical-align: middle;\n",
       "    }\n",
       "\n",
       "    .dataframe tbody tr th {\n",
       "        vertical-align: top;\n",
       "    }\n",
       "\n",
       "    .dataframe thead th {\n",
       "        text-align: right;\n",
       "    }\n",
       "</style>\n",
       "<table border=\"1\" class=\"dataframe\">\n",
       "  <thead>\n",
       "    <tr style=\"text-align: right;\">\n",
       "      <th></th>\n",
       "      <th>user_id</th>\n",
       "      <th>movie_id</th>\n",
       "      <th>movie_tile</th>\n",
       "      <th>movie_comment</th>\n",
       "      <th>point</th>\n",
       "    </tr>\n",
       "  </thead>\n",
       "  <tbody>\n",
       "    <tr>\n",
       "      <th>226230</th>\n",
       "      <td>23685</td>\n",
       "      <td>13153</td>\n",
       "      <td>機動戦士ZガンダムII恋人たち</td>\n",
       "      <td>ストーリーの端折りは相変わらずのためＴＶ版未見の方は辛いかも。視聴者層を考えれば当然ですが・...</td>\n",
       "      <td>6</td>\n",
       "    </tr>\n",
       "    <tr>\n",
       "      <th>226231</th>\n",
       "      <td>23685</td>\n",
       "      <td>1286</td>\n",
       "      <td>シャフト</td>\n",
       "      <td>サミュエルは相手役・脇役が光ると思ってるので・・ちょっとなぁ的な部分はありました。他の方も書...</td>\n",
       "      <td>5</td>\n",
       "    </tr>\n",
       "    <tr>\n",
       "      <th>226232</th>\n",
       "      <td>23685</td>\n",
       "      <td>1393</td>\n",
       "      <td>コヨーテ・アグリー</td>\n",
       "      <td>劇場で未見でＤＶＤ買ったものの１年以上放置してました(笑）少し人物の掘り下げが少ない部分もあ...</td>\n",
       "      <td>7</td>\n",
       "    </tr>\n",
       "    <tr>\n",
       "      <th>226233</th>\n",
       "      <td>23685</td>\n",
       "      <td>10398</td>\n",
       "      <td>ボーン・スプレマシー</td>\n",
       "      <td>年末安かったので購入し自宅シアターにて鑑賞。マット・デイモンも老けたなぁ・・カーチェイスはち...</td>\n",
       "      <td>6</td>\n",
       "    </tr>\n",
       "    <tr>\n",
       "      <th>226234</th>\n",
       "      <td>23685</td>\n",
       "      <td>4898</td>\n",
       "      <td>デアデビル</td>\n",
       "      <td>コリン・ファレルはおもしろかった。。でもそれだけしか残らなかった(笑)</td>\n",
       "      <td>5</td>\n",
       "    </tr>\n",
       "  </tbody>\n",
       "</table>\n",
       "</div>"
      ],
      "text/plain": [
       "        user_id  movie_id       movie_tile  \\\n",
       "226230    23685     13153  機動戦士ZガンダムII恋人たち   \n",
       "226231    23685      1286             シャフト   \n",
       "226232    23685      1393        コヨーテ・アグリー   \n",
       "226233    23685     10398       ボーン・スプレマシー   \n",
       "226234    23685      4898            デアデビル   \n",
       "\n",
       "                                            movie_comment  point  \n",
       "226230  ストーリーの端折りは相変わらずのためＴＶ版未見の方は辛いかも。視聴者層を考えれば当然ですが・...      6  \n",
       "226231  サミュエルは相手役・脇役が光ると思ってるので・・ちょっとなぁ的な部分はありました。他の方も書...      5  \n",
       "226232  劇場で未見でＤＶＤ買ったものの１年以上放置してました(笑）少し人物の掘り下げが少ない部分もあ...      7  \n",
       "226233  年末安かったので購入し自宅シアターにて鑑賞。マット・デイモンも老けたなぁ・・カーチェイスはち...      6  \n",
       "226234                コリン・ファレルはおもしろかった。。でもそれだけしか残らなかった(笑)      5  "
      ]
     },
     "execution_count": 23,
     "metadata": {},
     "output_type": "execute_result"
    }
   ],
   "source": [
    "review2_df.head()"
   ]
  },
  {
   "cell_type": "code",
   "execution_count": 24,
   "id": "7f2f8edc-49b7-432f-b292-95df353fade3",
   "metadata": {},
   "outputs": [
    {
     "data": {
      "text/html": [
       "<div>\n",
       "<style scoped>\n",
       "    .dataframe tbody tr th:only-of-type {\n",
       "        vertical-align: middle;\n",
       "    }\n",
       "\n",
       "    .dataframe tbody tr th {\n",
       "        vertical-align: top;\n",
       "    }\n",
       "\n",
       "    .dataframe thead th {\n",
       "        text-align: right;\n",
       "    }\n",
       "</style>\n",
       "<table border=\"1\" class=\"dataframe\">\n",
       "  <thead>\n",
       "    <tr style=\"text-align: right;\">\n",
       "      <th></th>\n",
       "      <th>user_id</th>\n",
       "      <th>movie_id</th>\n",
       "      <th>movie_tile</th>\n",
       "      <th>movie_comment</th>\n",
       "      <th>point</th>\n",
       "    </tr>\n",
       "  </thead>\n",
       "  <tbody>\n",
       "    <tr>\n",
       "      <th>339345</th>\n",
       "      <td>25489</td>\n",
       "      <td>14740</td>\n",
       "      <td>次郎長三国志　第九部　荒神山</td>\n",
       "      <td>前作からのつながりで、山に籠もってる、いう設定。土屋嘉男の農民が恨みから変わっていく展開がポ...</td>\n",
       "      <td>6</td>\n",
       "    </tr>\n",
       "    <tr>\n",
       "      <th>339346</th>\n",
       "      <td>25489</td>\n",
       "      <td>13660</td>\n",
       "      <td>次郎長三国志　第八部　海道一の暴れん坊</td>\n",
       "      <td>豚松の母親の嘆きなど、「カタギ」と「馬鹿」が対比される。やくざというのは、つまり「馬鹿」の開...</td>\n",
       "      <td>7</td>\n",
       "    </tr>\n",
       "    <tr>\n",
       "      <th>339347</th>\n",
       "      <td>25489</td>\n",
       "      <td>13704</td>\n",
       "      <td>次郎長三国志　第七部　初祝い清水港</td>\n",
       "      <td>正月映画らしい道具立てで、忠臣蔵の七段目をベースにしたような一編。もっとも大石はリコウがバカ...</td>\n",
       "      <td>7</td>\n",
       "    </tr>\n",
       "    <tr>\n",
       "      <th>339348</th>\n",
       "      <td>25489</td>\n",
       "      <td>13692</td>\n",
       "      <td>次郎長三国志　第六部　旅がらす次郎長一家</td>\n",
       "      <td>御詠歌を流す巡礼で始まり、一転渋い一編となる。逃げ回り野に伏す日々。石松が思わず吃らずに嘆い...</td>\n",
       "      <td>7</td>\n",
       "    </tr>\n",
       "    <tr>\n",
       "      <th>339349</th>\n",
       "      <td>25489</td>\n",
       "      <td>13688</td>\n",
       "      <td>次郎長三国志　第五部　殴込み甲州路</td>\n",
       "      <td>まず祭り。陽気な爆発。路地の中にゆっくりと踊りながら入り込んでくるおせんちゃんのカット。お囃...</td>\n",
       "      <td>7</td>\n",
       "    </tr>\n",
       "  </tbody>\n",
       "</table>\n",
       "</div>"
      ],
      "text/plain": [
       "        user_id  movie_id            movie_tile  \\\n",
       "339345    25489     14740        次郎長三国志　第九部　荒神山   \n",
       "339346    25489     13660   次郎長三国志　第八部　海道一の暴れん坊   \n",
       "339347    25489     13704     次郎長三国志　第七部　初祝い清水港   \n",
       "339348    25489     13692  次郎長三国志　第六部　旅がらす次郎長一家   \n",
       "339349    25489     13688     次郎長三国志　第五部　殴込み甲州路   \n",
       "\n",
       "                                            movie_comment  point  \n",
       "339345  前作からのつながりで、山に籠もってる、いう設定。土屋嘉男の農民が恨みから変わっていく展開がポ...      6  \n",
       "339346  豚松の母親の嘆きなど、「カタギ」と「馬鹿」が対比される。やくざというのは、つまり「馬鹿」の開...      7  \n",
       "339347  正月映画らしい道具立てで、忠臣蔵の七段目をベースにしたような一編。もっとも大石はリコウがバカ...      7  \n",
       "339348  御詠歌を流す巡礼で始まり、一転渋い一編となる。逃げ回り野に伏す日々。石松が思わず吃らずに嘆い...      7  \n",
       "339349  まず祭り。陽気な爆発。路地の中にゆっくりと踊りながら入り込んでくるおせんちゃんのカット。お囃...      7  "
      ]
     },
     "execution_count": 24,
     "metadata": {},
     "output_type": "execute_result"
    }
   ],
   "source": [
    "review3_df.head()"
   ]
  },
  {
   "cell_type": "code",
   "execution_count": 26,
   "id": "a37c0203-6ec0-45db-919b-7ff67872a675",
   "metadata": {},
   "outputs": [
    {
     "name": "stdout",
     "output_type": "stream",
     "text": [
      "<class 'pandas.core.frame.DataFrame'>\n",
      "RangeIndex: 452459 entries, 0 to 452458\n",
      "Data columns (total 5 columns):\n",
      " #   Column         Non-Null Count   Dtype \n",
      "---  ------         --------------   ----- \n",
      " 0   user_id        452459 non-null  int64 \n",
      " 1   movie_id       452459 non-null  int64 \n",
      " 2   movie_tile     452459 non-null  object\n",
      " 3   movie_comment  452459 non-null  object\n",
      " 4   point          452459 non-null  int64 \n",
      "dtypes: int64(3), object(2)\n",
      "memory usage: 17.3+ MB\n"
     ]
    }
   ],
   "source": [
    "review_df_merge = review0_df.append(review1_df).append(review2_df).append(review3_df)\n",
    "review_df_merge.info()"
   ]
  },
  {
   "cell_type": "code",
   "execution_count": 28,
   "id": "b5ef6adb-df07-4f70-bdec-35f38b38e038",
   "metadata": {},
   "outputs": [
    {
     "data": {
      "text/html": [
       "<div>\n",
       "<style scoped>\n",
       "    .dataframe tbody tr th:only-of-type {\n",
       "        vertical-align: middle;\n",
       "    }\n",
       "\n",
       "    .dataframe tbody tr th {\n",
       "        vertical-align: top;\n",
       "    }\n",
       "\n",
       "    .dataframe thead th {\n",
       "        text-align: right;\n",
       "    }\n",
       "</style>\n",
       "<table border=\"1\" class=\"dataframe\">\n",
       "  <thead>\n",
       "    <tr style=\"text-align: right;\">\n",
       "      <th></th>\n",
       "      <th>user_id</th>\n",
       "      <th>movie_id</th>\n",
       "      <th>movie_tile</th>\n",
       "      <th>movie_comment</th>\n",
       "      <th>point</th>\n",
       "    </tr>\n",
       "  </thead>\n",
       "  <tbody>\n",
       "    <tr>\n",
       "      <th>452454</th>\n",
       "      <td>27958</td>\n",
       "      <td>8188</td>\n",
       "      <td>ロード・オブ・ザ・リング／王の帰還</td>\n",
       "      <td>原作は本当に大好きな作品。その世界をここまで再現してくれた制作陣には感謝しかありません。満点...</td>\n",
       "      <td>9</td>\n",
       "    </tr>\n",
       "    <tr>\n",
       "      <th>452455</th>\n",
       "      <td>27960</td>\n",
       "      <td>26636</td>\n",
       "      <td>JUNKHEAD</td>\n",
       "      <td>ストップモーションについてそんなに詳しいわけではないが、その熱意に圧倒された。女性描写に鋭い...</td>\n",
       "      <td>9</td>\n",
       "    </tr>\n",
       "    <tr>\n",
       "      <th>452456</th>\n",
       "      <td>27960</td>\n",
       "      <td>26543</td>\n",
       "      <td>花束みたいな恋をした</td>\n",
       "      <td>瀧波ユカリさんがnoteで大絶賛していたので気になり会社を出た後映画館に滑りこんだ。端的に言...</td>\n",
       "      <td>10</td>\n",
       "    </tr>\n",
       "    <tr>\n",
       "      <th>452457</th>\n",
       "      <td>27961</td>\n",
       "      <td>7549</td>\n",
       "      <td>スカイ・ライダーズ</td>\n",
       "      <td>中一の時、和歌山田辺のトキワ座にて「オーメン」の併映として鑑賞。メインを凌駕するほどの面白さ...</td>\n",
       "      <td>7</td>\n",
       "    </tr>\n",
       "    <tr>\n",
       "      <th>452458</th>\n",
       "      <td>27973</td>\n",
       "      <td>26407</td>\n",
       "      <td>キネマの神様</td>\n",
       "      <td>木場の109シネマズで鑑賞。笑いあり、涙ありの良作。個人的には傑作といっても過言ではないと思...</td>\n",
       "      <td>9</td>\n",
       "    </tr>\n",
       "  </tbody>\n",
       "</table>\n",
       "</div>"
      ],
      "text/plain": [
       "        user_id  movie_id         movie_tile  \\\n",
       "452454    27958      8188  ロード・オブ・ザ・リング／王の帰還   \n",
       "452455    27960     26636           JUNKHEAD   \n",
       "452456    27960     26543         花束みたいな恋をした   \n",
       "452457    27961      7549          スカイ・ライダーズ   \n",
       "452458    27973     26407             キネマの神様   \n",
       "\n",
       "                                            movie_comment  point  \n",
       "452454  原作は本当に大好きな作品。その世界をここまで再現してくれた制作陣には感謝しかありません。満点...      9  \n",
       "452455  ストップモーションについてそんなに詳しいわけではないが、その熱意に圧倒された。女性描写に鋭い...      9  \n",
       "452456  瀧波ユカリさんがnoteで大絶賛していたので気になり会社を出た後映画館に滑りこんだ。端的に言...     10  \n",
       "452457  中一の時、和歌山田辺のトキワ座にて「オーメン」の併映として鑑賞。メインを凌駕するほどの面白さ...      7  \n",
       "452458  木場の109シネマズで鑑賞。笑いあり、涙ありの良作。個人的には傑作といっても過言ではないと思...      9  "
      ]
     },
     "execution_count": 28,
     "metadata": {},
     "output_type": "execute_result"
    }
   ],
   "source": [
    "review_df_merge.tail()"
   ]
  },
  {
   "cell_type": "code",
   "execution_count": 29,
   "id": "a2673311-53cc-4b75-9e45-b75129878b1c",
   "metadata": {},
   "outputs": [
    {
     "data": {
      "text/html": [
       "<div>\n",
       "<style scoped>\n",
       "    .dataframe tbody tr th:only-of-type {\n",
       "        vertical-align: middle;\n",
       "    }\n",
       "\n",
       "    .dataframe tbody tr th {\n",
       "        vertical-align: top;\n",
       "    }\n",
       "\n",
       "    .dataframe thead th {\n",
       "        text-align: right;\n",
       "    }\n",
       "</style>\n",
       "<table border=\"1\" class=\"dataframe\">\n",
       "  <thead>\n",
       "    <tr style=\"text-align: right;\">\n",
       "      <th></th>\n",
       "      <th>user_id</th>\n",
       "      <th>movie_id</th>\n",
       "      <th>movie_tile</th>\n",
       "      <th>movie_comment</th>\n",
       "      <th>point</th>\n",
       "    </tr>\n",
       "  </thead>\n",
       "  <tbody>\n",
       "    <tr>\n",
       "      <th>452454</th>\n",
       "      <td>27958</td>\n",
       "      <td>8188</td>\n",
       "      <td>ロード・オブ・ザ・リング／王の帰還</td>\n",
       "      <td>原作は本当に大好きな作品。その世界をここまで再現してくれた制作陣には感謝しかありません。満点...</td>\n",
       "      <td>9</td>\n",
       "    </tr>\n",
       "    <tr>\n",
       "      <th>452455</th>\n",
       "      <td>27960</td>\n",
       "      <td>26636</td>\n",
       "      <td>JUNKHEAD</td>\n",
       "      <td>ストップモーションについてそんなに詳しいわけではないが、その熱意に圧倒された。女性描写に鋭い...</td>\n",
       "      <td>9</td>\n",
       "    </tr>\n",
       "    <tr>\n",
       "      <th>452456</th>\n",
       "      <td>27960</td>\n",
       "      <td>26543</td>\n",
       "      <td>花束みたいな恋をした</td>\n",
       "      <td>瀧波ユカリさんがnoteで大絶賛していたので気になり会社を出た後映画館に滑りこんだ。端的に言...</td>\n",
       "      <td>10</td>\n",
       "    </tr>\n",
       "    <tr>\n",
       "      <th>452457</th>\n",
       "      <td>27961</td>\n",
       "      <td>7549</td>\n",
       "      <td>スカイ・ライダーズ</td>\n",
       "      <td>中一の時、和歌山田辺のトキワ座にて「オーメン」の併映として鑑賞。メインを凌駕するほどの面白さ...</td>\n",
       "      <td>7</td>\n",
       "    </tr>\n",
       "    <tr>\n",
       "      <th>452458</th>\n",
       "      <td>27973</td>\n",
       "      <td>26407</td>\n",
       "      <td>キネマの神様</td>\n",
       "      <td>木場の109シネマズで鑑賞。笑いあり、涙ありの良作。個人的には傑作といっても過言ではないと思...</td>\n",
       "      <td>9</td>\n",
       "    </tr>\n",
       "  </tbody>\n",
       "</table>\n",
       "</div>"
      ],
      "text/plain": [
       "        user_id  movie_id         movie_tile  \\\n",
       "452454    27958      8188  ロード・オブ・ザ・リング／王の帰還   \n",
       "452455    27960     26636           JUNKHEAD   \n",
       "452456    27960     26543         花束みたいな恋をした   \n",
       "452457    27961      7549          スカイ・ライダーズ   \n",
       "452458    27973     26407             キネマの神様   \n",
       "\n",
       "                                            movie_comment  point  \n",
       "452454  原作は本当に大好きな作品。その世界をここまで再現してくれた制作陣には感謝しかありません。満点...      9  \n",
       "452455  ストップモーションについてそんなに詳しいわけではないが、その熱意に圧倒された。女性描写に鋭い...      9  \n",
       "452456  瀧波ユカリさんがnoteで大絶賛していたので気になり会社を出た後映画館に滑りこんだ。端的に言...     10  \n",
       "452457  中一の時、和歌山田辺のトキワ座にて「オーメン」の併映として鑑賞。メインを凌駕するほどの面白さ...      7  \n",
       "452458  木場の109シネマズで鑑賞。笑いあり、涙ありの良作。個人的には傑作といっても過言ではないと思...      9  "
      ]
     },
     "execution_count": 29,
     "metadata": {},
     "output_type": "execute_result"
    }
   ],
   "source": [
    "ratings.tail()"
   ]
  },
  {
   "cell_type": "code",
   "execution_count": 31,
   "id": "4bc78dbd-fa58-402d-985d-a214a68a55c2",
   "metadata": {},
   "outputs": [
    {
     "data": {
      "text/plain": [
       "True"
      ]
     },
     "execution_count": 31,
     "metadata": {},
     "output_type": "execute_result"
    }
   ],
   "source": [
    "review_df_merge.equals(ratings)"
   ]
  },
  {
   "cell_type": "code",
   "execution_count": null,
   "id": "a8d18f0f-1244-4bd5-9f2c-0fb67e80dfe5",
   "metadata": {},
   "outputs": [],
   "source": []
  }
 ],
 "metadata": {
  "kernelspec": {
   "display_name": "Python 3.9.5 64-bit ('ukita_main_env': conda)",
   "language": "python",
   "name": "python395jvsc74a57bd0c19bd4dc0949b9af5049c50e337ed6e21b7d6fbec491433b163f7fe7b877fba9"
  },
  "language_info": {
   "codemirror_mode": {
    "name": "ipython",
    "version": 3
   },
   "file_extension": ".py",
   "mimetype": "text/x-python",
   "name": "python",
   "nbconvert_exporter": "python",
   "pygments_lexer": "ipython3",
   "version": "3.9.5"
  }
 },
 "nbformat": 4,
 "nbformat_minor": 5
}
